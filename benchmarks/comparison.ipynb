{
 "cells": [
  {
   "cell_type": "code",
   "execution_count": 1,
   "metadata": {
    "collapsed": false
   },
   "outputs": [],
   "source": [
    "import numpy as np\n",
    "\n",
    "from standard_tester import *\n",
    "\n",
    "from runlmc.models.lmc import LMC\n",
    "from runlmc.kern.rbf import RBF\n",
    "from runlmc.models.optimization import AdaDelta\n",
    "from runlmc.models.gpy_lmc import GPyLMC\n",
    "\n",
    "%matplotlib inline \n",
    "import matplotlib.pyplot as plt\n",
    "\n",
    "np.random.seed(1234)"
   ]
  },
  {
   "cell_type": "code",
   "execution_count": 2,
   "metadata": {
    "collapsed": false
   },
   "outputs": [],
   "source": [
    "# as chosen in Nguyen 2014\n",
    "ks = [RBF(name='rbf0')]\n",
    "ranks = [2]\n",
    "# all_ixs is union of all xss, holdout, holdin are dictionaries of slices\n",
    "xss, yss, test_xss, test_yss, fx2007, all_ixs, holdout, holdin = foreign_exchange_2007()\n",
    "pred_xss = test_xss"
   ]
  },
  {
   "cell_type": "code",
   "execution_count": 3,
   "metadata": {
    "collapsed": false
   },
   "outputs": [
    {
     "name": "stdout",
     "output_type": "stream",
     "text": [
      "starting adadelta {'offset': 0.0001, 'roll': 2, 'momentum': 0.5, 'min_grad_ratio': 0.5, 'decay': 0.9, 'max_it': 10000, 'step_rate': 1, 'verbosity': 1}\n",
      "finished adadelta optimization\n",
      "            19 iterations\n",
      "    3.2117e+01 final grad norm\n",
      "    4.7677e+01 final MA(2) grad norm\n",
      "    9.8589e+01 max MA(2) grad norm\n",
      "    norm used inf\n",
      "starting adadelta {'offset': 0.0001, 'roll': 2, 'momentum': 0.5, 'min_grad_ratio': 0.5, 'decay': 0.9, 'max_it': 10000, 'step_rate': 1, 'verbosity': 1}\n",
      "finished adadelta optimization\n",
      "            22 iterations\n",
      "    6.1911e+01 final grad norm\n",
      "    6.8204e+01 final MA(2) grad norm\n",
      "    1.5030e+02 max MA(2) grad norm\n",
      "    norm used inf\n",
      "starting adadelta {'offset': 0.0001, 'roll': 2, 'momentum': 0.5, 'min_grad_ratio': 0.5, 'decay': 0.9, 'max_it': 10000, 'step_rate': 1, 'verbosity': 1}\n",
      "finished adadelta optimization\n",
      "            21 iterations\n",
      "    9.3971e+01 final grad norm\n",
      "    8.9865e+01 final MA(2) grad norm\n",
      "    2.2367e+02 max MA(2) grad norm\n",
      "    norm used inf\n",
      "**************************************\n",
      "time 7.39887669567 smse 0.446100758763 nlpd -3.60407054671\n",
      "**************************************\n",
      "starting adadelta {'offset': 0.0001, 'roll': 2, 'momentum': 0.5, 'min_grad_ratio': 0.5, 'decay': 0.9, 'max_it': 10000, 'step_rate': 1, 'verbosity': 1}\n",
      "finished adadelta optimization\n",
      "            26 iterations\n",
      "    8.6201e+01 final grad norm\n",
      "    1.0426e+02 final MA(2) grad norm\n",
      "    2.3161e+02 max MA(2) grad norm\n",
      "    norm used inf\n",
      "starting adadelta {'offset': 0.0001, 'roll': 2, 'momentum': 0.5, 'min_grad_ratio': 0.5, 'decay': 0.9, 'max_it': 10000, 'step_rate': 1, 'verbosity': 1}\n",
      "finished adadelta optimization\n",
      "            21 iterations\n",
      "    8.3950e+01 final grad norm\n",
      "    8.9308e+01 final MA(2) grad norm\n",
      "    3.1422e+02 max MA(2) grad norm\n",
      "    norm used inf\n",
      "starting adadelta {'offset': 0.0001, 'roll': 2, 'momentum': 0.5, 'min_grad_ratio': 0.5, 'decay': 0.9, 'max_it': 10000, 'step_rate': 1, 'verbosity': 1}\n",
      "finished adadelta optimization\n",
      "            21 iterations\n",
      "    8.0428e+01 final grad norm\n",
      "    8.2436e+01 final MA(2) grad norm\n",
      "    1.9521e+02 max MA(2) grad norm\n",
      "    norm used inf\n",
      "**************************************\n",
      "time 10.3954859873 smse 0.298558257332 nlpd -3.70652243336\n",
      "**************************************\n",
      "starting adadelta {'offset': 0.0001, 'roll': 2, 'momentum': 0.5, 'min_grad_ratio': 0.5, 'decay': 0.9, 'max_it': 10000, 'step_rate': 1, 'verbosity': 1}\n",
      "finished adadelta optimization\n",
      "            15 iterations\n",
      "    9.0350e+01 final grad norm\n",
      "    9.4098e+01 final MA(2) grad norm\n",
      "    1.9717e+02 max MA(2) grad norm\n",
      "    norm used inf\n",
      "starting adadelta {'offset': 0.0001, 'roll': 2, 'momentum': 0.5, 'min_grad_ratio': 0.5, 'decay': 0.9, 'max_it': 10000, 'step_rate': 1, 'verbosity': 1}\n",
      "finished adadelta optimization\n",
      "            21 iterations\n",
      "    1.5909e+02 final grad norm\n",
      "    1.2389e+02 final MA(2) grad norm\n",
      "    2.5991e+02 max MA(2) grad norm\n",
      "    norm used inf\n",
      "starting adadelta {'offset': 0.0001, 'roll': 2, 'momentum': 0.5, 'min_grad_ratio': 0.5, 'decay': 0.9, 'max_it': 10000, 'step_rate': 1, 'verbosity': 1}\n",
      "finished adadelta optimization\n",
      "            20 iterations\n",
      "    1.2143e+02 final grad norm\n",
      "    9.5949e+01 final MA(2) grad norm\n",
      "    2.2791e+02 max MA(2) grad norm\n",
      "    norm used inf\n",
      "**************************************\n",
      "time 11.9009705123 smse 0.265297064182 nlpd -3.73527895655\n",
      "**************************************\n",
      "starting adadelta {'offset': 0.0001, 'roll': 2, 'momentum': 0.5, 'min_grad_ratio': 0.5, 'decay': 0.9, 'max_it': 10000, 'step_rate': 1, 'verbosity': 1}\n",
      "finished adadelta optimization\n",
      "            20 iterations\n",
      "    8.3307e+01 final grad norm\n",
      "    1.0197e+02 final MA(2) grad norm\n",
      "    2.6010e+02 max MA(2) grad norm\n",
      "    norm used inf\n",
      "starting adadelta {'offset': 0.0001, 'roll': 2, 'momentum': 0.5, 'min_grad_ratio': 0.5, 'decay': 0.9, 'max_it': 10000, 'step_rate': 1, 'verbosity': 1}\n",
      "finished adadelta optimization\n",
      "            24 iterations\n",
      "    1.1922e+02 final grad norm\n",
      "    1.4177e+02 final MA(2) grad norm\n",
      "    3.2966e+02 max MA(2) grad norm\n",
      "    norm used inf\n",
      "starting adadelta {'offset': 0.0001, 'roll': 2, 'momentum': 0.5, 'min_grad_ratio': 0.5, 'decay': 0.9, 'max_it': 10000, 'step_rate': 1, 'verbosity': 1}\n",
      "finished adadelta optimization\n",
      "            13 iterations\n",
      "    1.0440e+02 final grad norm\n",
      "    1.0920e+02 final MA(2) grad norm\n",
      "    2.2582e+02 max MA(2) grad norm\n",
      "    norm used inf\n",
      "**************************************\n",
      "time 16.081372238 smse 0.301319789157 nlpd -3.79570427695\n",
      "**************************************\n",
      "starting adadelta {'offset': 0.0001, 'roll': 2, 'momentum': 0.5, 'min_grad_ratio': 0.5, 'decay': 0.9, 'max_it': 10000, 'step_rate': 1, 'verbosity': 1}\n",
      "finished adadelta optimization\n",
      "            21 iterations\n",
      "    1.6581e+02 final grad norm\n",
      "    1.5757e+02 final MA(2) grad norm\n",
      "    3.6055e+02 max MA(2) grad norm\n",
      "    norm used inf\n",
      "starting adadelta {'offset': 0.0001, 'roll': 2, 'momentum': 0.5, 'min_grad_ratio': 0.5, 'decay': 0.9, 'max_it': 10000, 'step_rate': 1, 'verbosity': 1}\n",
      "finished adadelta optimization\n",
      "            13 iterations\n",
      "    9.7650e+01 final grad norm\n",
      "    9.6751e+01 final MA(2) grad norm\n",
      "    1.9899e+02 max MA(2) grad norm\n",
      "    norm used inf\n",
      "starting adadelta {'offset': 0.0001, 'roll': 2, 'momentum': 0.5, 'min_grad_ratio': 0.5, 'decay': 0.9, 'max_it': 10000, 'step_rate': 1, 'verbosity': 1}\n",
      "finished adadelta optimization\n",
      "            36 iterations\n",
      "    1.5705e+02 final grad norm\n",
      "    1.2750e+02 final MA(2) grad norm\n",
      "    4.5709e+02 max MA(2) grad norm\n",
      "    norm used inf\n",
      "**************************************\n",
      "time 88.9445197003 smse 0.320895432673 nlpd -3.63920965941\n",
      "**************************************\n"
     ]
    }
   ],
   "source": [
    "num_runs = 3\n",
    "inducing_points = [20, 40, 100, 200, 250]\n",
    "runlmc_times, runlmc_smses, runlmc_nlpds = [], [], []\n",
    "for m in inducing_points:\n",
    "    time, smse, nlpd, _ = runlmc(\n",
    "        num_runs, m,\n",
    "        xss, yss, test_xss, test_yss,\n",
    "        ks, ranks, {'max_it': 10000, 'verbosity':1})\n",
    "    print('**************************************')\n",
    "    print('m', m, 'time', time, 'smse', smse, 'nlpd', nlpd)\n",
    "    print('**************************************')\n",
    "    runlmc_times.append(time)\n",
    "    runlmc_smses.append(smse)\n",
    "    runlmc_nlpds.append(nlpd)"
   ]
  },
  {
   "cell_type": "code",
   "execution_count": 3,
   "metadata": {
    "collapsed": false
   },
   "outputs": [
    {
     "name": "stdout",
     "output_type": "stream",
     "text": [
      "**************************************\n",
      "m 10 time 15.824306 smse 0.287032772457891 nlpd 66.33942400098648\n",
      "**************************************\n"
     ]
    }
   ],
   "source": [
    "num_runs = 3\n",
    "inducing_points = [10, 20, 40, 100, 200, 250]\n",
    "cogp_times, cogp_smses, cogp_nlpds = [], [], []\n",
    "for m in inducing_points:\n",
    "    time, smse, nlpd = cogp_fx2007(num_runs, m)\n",
    "    print('**************************************')\n",
    "    print('m', m, 'time', time, 'smse', smse, 'nlpd', nlpd)\n",
    "    print('**************************************')\n",
    "    cogp_times.append(time)\n",
    "    cogp_smses.append(smse)\n",
    "    cogp_nlpds.append(nlpd)"
   ]
  },
  {
   "cell_type": "code",
   "execution_count": 5,
   "metadata": {
    "collapsed": false
   },
   "outputs": [
    {
     "name": "stdout",
     "output_type": "stream",
     "text": [
      "time 22.86928\n",
      "smes 0.488346712971921\n",
      "nlpds 94.42110850628997\n"
     ]
    }
   ],
   "source": [
    "# for picture: search for best lmc model with fixed num of inducing\n",
    "_, _, _, best = runlmc(\n",
    "    5, 200,\n",
    "    xss, yss, test_xss, test_yss,\n",
    "    ks, ranks, {'max_it': 10000, 'verbosity':0})"
   ]
  },
  {
   "cell_type": "code",
   "execution_count": 8,
   "metadata": {
    "collapsed": false
   },
   "outputs": [
    {
     "name": "stdout",
     "output_type": "stream",
     "text": [
      "(753, 1)\n"
     ]
    },
    {
     "data": {
      "image/png": "[encoded data removed]",
      "text/plain": [
       "<matplotlib.figure.Figure at 0x7fb5c63fe278>"
      ]
     },
     "metadata": {},
     "output_type": "display_data"
    }
   ],
   "source": [
    "# Prints best lmc model\n",
    "pred_xss = [all_ixs if col in test_fx else [] for col in fx2007.columns]\n",
    "pred_yss, pred_vss = best.predict(pred_xss)\n",
    "pred_xss = {col: xs for col, xs in zip(fx2007.columns, pred_xss)}\n",
    "pred_yss = {col: ys for col, ys in zip(fx2007.columns, pred_yss)}\n",
    "pred_vss = {col: vs for col, vs in zip(fx2007.columns, pred_vss)}\n",
    "\n",
    "_, axs = plt.subplots(ncols=3, figsize=(16, 4))\n",
    "for col, ax in zip(test_fx, axs):\n",
    "    \n",
    "    # Prediction everywhere\n",
    "    pred_xs = pred_xss[col]\n",
    "    pred_ys = pred_yss[col]\n",
    "    sd = np.sqrt(pred_vss[col])\n",
    "    ax.plot(pred_xs, pred_ys, c='black')\n",
    "    top = pred_ys + 2 * sd\n",
    "    bot = pred_ys - 2 * sd\n",
    "    ax.fill_between(pred_xs, bot, top, facecolor='grey', alpha=0.3)    \n",
    "    \n",
    "    # Actual holdout\n",
    "    marker_size = 5\n",
    "    test_xs = all_ixs[holdout[col]]\n",
    "    test_ys = np.reciprocal(fx2007.ix[holdout[col], col].values)\n",
    "    ax.scatter(test_xs, test_ys, c='blue', edgecolors='none', s=marker_size, zorder=11)\n",
    "    \n",
    "    # Rest of image\n",
    "    rest_xs = all_ixs[holdin[col]]\n",
    "    rest_ys = np.reciprocal(fx2007.ix[holdin[col], col].values)\n",
    "    ax.scatter(rest_xs, rest_ys, c='magenta', edgecolors='none', s=marker_size, zorder=10)\n",
    "    \n",
    "    ax.set_xlim([0, 250])\n",
    "    ax.set_title('output {} (95%)'.format(col))\n",
    "\n",
    "\n",
    "plt.show()"
   ]
  },
  {
   "cell_type": "code",
   "execution_count": null,
   "metadata": {
    "collapsed": true
   },
   "outputs": [],
   "source": []
  }
 ],
 "metadata": {
  "kernelspec": {
   "display_name": "Python 3",
   "language": "python",
   "name": "python3"
  },
  "language_info": {
   "codemirror_mode": {
    "name": "ipython",
    "version": 3
   },
   "file_extension": ".py",
   "mimetype": "text/x-python",
   "name": "python",
   "nbconvert_exporter": "python",
   "pygments_lexer": "ipython3",
   "version": "3.5.2"
  }
 },
 "nbformat": 4,
 "nbformat_minor": 0
}
