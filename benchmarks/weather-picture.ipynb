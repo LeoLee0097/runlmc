{
 "cells": [
  {
   "cell_type": "code",
   "execution_count": 1,
   "metadata": {
    "collapsed": true
   },
   "outputs": [],
   "source": [
    "import numpy as np\n",
    "#import matplotlib as mpl\n",
    "#mpl.use('Agg')\n",
    "%matplotlib inline\n",
    "import matplotlib.pyplot as plt\n",
    "from math import sqrt"
   ]
  },
  {
   "cell_type": "code",
   "execution_count": 6,
   "metadata": {
    "collapsed": false
   },
   "outputs": [],
   "source": [
    "lines = !! grep -e \"--->\" example-stdout-weather.txt\n",
    "llgp = [line.split() for line in lines]\n",
    "llgp, last, cogp = llgp[:-2], llgp[-2], llgp[-1]\n",
    "nruns = 3\n",
    "ms = [int(line[4]) for line in llgp]\n",
    "ms = ms\n",
    "times = [float(line[6]) for line in llgp]\n",
    "se_times = [float(line[8][:-1]) / sqrt(nruns) for line in llgp]\n",
    "smses = [float(line[10]) for line in llgp]\n",
    "nlpds = [float(line[14]) for line in llgp]\n",
    "se_nlpds = [float(line[16][:-1]) / sqrt(nruns) for line in llgp]"
   ]
  },
  {
   "cell_type": "code",
   "execution_count": 7,
   "metadata": {
    "collapsed": false
   },
   "outputs": [
    {
     "data": {
      "text/plain": [
       "[0.0797, 0.0797, 0.0797, 0.0797, 0.0797, 0.0797, 0.0797]"
      ]
     },
     "execution_count": 7,
     "metadata": {},
     "output_type": "execute_result"
    }
   ],
   "source": [
    "smses"
   ]
  },
  {
   "cell_type": "code",
   "execution_count": 8,
   "metadata": {
    "collapsed": false
   },
   "outputs": [
    {
     "data": {
      "image/png": "[encoded data removed]",
      "text/plain": [
       "<matplotlib.figure.Figure at 0x7fcb65de8a20>"
      ]
     },
     "metadata": {},
     "output_type": "display_data"
    }
   ],
   "source": [
    "fig, ax1 = plt.subplots()\n",
    "ax1.errorbar(ms, nlpds, yerr=se_nlpds, c='r', marker='s', ecolor='pink')\n",
    "ax1.set_ylabel('NLPD', color='r')\n",
    "ax1.set_xlabel(r'interpolating points $m$')\n",
    "ax2 = ax1.twinx()\n",
    "jittered_ms = [m - 10 for m in ms]\n",
    "ax2.errorbar(jittered_ms, times, yerr=se_times, c='b', marker='o', ls=':', ecolor='lightblue')\n",
    "ax2.set_ylabel('runtime (s)', color='b')\n",
    "ax2.set_xlim([min(ms) - 30, max(ms) + 20])\n",
    "\n",
    "fig.tight_layout()\n",
    "plt.savefig('m_time_nlpd.eps', format='eps', bbox_inches='tight')\n",
    "plt.show()"
   ]
  },
  {
   "cell_type": "code",
   "execution_count": 10,
   "metadata": {
    "collapsed": false
   },
   "outputs": [
    {
     "data": {
      "text/plain": [
       "'---> llgp slfm m 3951 time 2065.6674 ( 761.3144) smse 0.0797 ( 0.0125) nlpd 1.5563 ( 0.0717)'"
      ]
     },
     "execution_count": 10,
     "metadata": {},
     "output_type": "execute_result"
    }
   ],
   "source": [
    "' '.join(last)"
   ]
  },
  {
   "cell_type": "code",
   "execution_count": 11,
   "metadata": {
    "collapsed": false
   },
   "outputs": [
    {
     "data": {
      "text/plain": [
       "'---> cogp m 200 time 1404.295186666666 smse 0.081216155870807 nlpd 99.74857408085514'"
      ]
     },
     "execution_count": 11,
     "metadata": {},
     "output_type": "execute_result"
    }
   ],
   "source": [
    "' '.join(cogp)"
   ]
  },
  {
   "cell_type": "code",
   "execution_count": null,
   "metadata": {
    "collapsed": true
   },
   "outputs": [],
   "source": []
  }
 ],
 "metadata": {
  "kernelspec": {
   "display_name": "Python 3",
   "language": "python",
   "name": "python3"
  },
  "language_info": {
   "codemirror_mode": {
    "name": "ipython",
    "version": 3
   },
   "file_extension": ".py",
   "mimetype": "text/x-python",
   "name": "python",
   "nbconvert_exporter": "python",
   "pygments_lexer": "ipython3",
   "version": "3.5.2"
  }
 },
 "nbformat": 4,
 "nbformat_minor": 0
}
