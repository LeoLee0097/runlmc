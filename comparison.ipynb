{
 "cells": [
  {
   "cell_type": "code",
   "execution_count": 1,
   "metadata": {
    "collapsed": false
   },
   "outputs": [],
   "source": [
    "import contexttimer\n",
    "from runlmc.models.lmc import LMC\n",
    "from runlmc.kern.rbf import RBF\n",
    "from runlmc.models.optimization import AdaDelta\n",
    "import GPy\n",
    "from runlmc.models.gpy_lmc import GPyLMC\n",
    "\n",
    "import numpy as np\n",
    "\n",
    "%matplotlib inline \n",
    "import matplotlib.pyplot as plt\n",
    "\n",
    "np.random.seed(1234)"
   ]
  },
  {
   "cell_type": "code",
   "execution_count": 2,
   "metadata": {
    "collapsed": false
   },
   "outputs": [],
   "source": [
    "# Adapts the 2-output toy problem from \n",
    "# Collaborative Multi-output Gaussian Processes\n",
    "# Nguyen and Bonilla et al.\n",
    "\n",
    "# Their example uses a grid of inputs. To make it harder (for runlmc)\n",
    "# we instead look at uniformly distributed inputs.\n",
    "\n",
    "sz = 2000\n",
    "xss = [np.random.uniform(-10,10,size=sz) for _ in range(2)]\n",
    "yss = [np.sin(xss[0]) + 1e-7 + np.random.randn(sz) * 1e-2,\n",
    "       -np.sin(xss[0]) + 1e-7 + np.random.randn(sz) * 1e-2]\n",
    "ks = [RBF(name='rbf0')]"
   ]
  },
  {
   "cell_type": "code",
   "execution_count": 3,
   "metadata": {
    "collapsed": false
   },
   "outputs": [
    {
     "name": "stdout",
     "output_type": "stream",
     "text": [
      "starting AdaDelta {'max_it': 100, 'step_rate': 1, 'offset': 0.0001, 'momentum': 0.5, 'verbosity': 10, 'min_grad_ratio': 0.5, 'roll': 2, 'decay': 0.9}\n",
      "iteration       10 grad norm 8.0037e+02\n",
      "iteration       20 grad norm 8.3000e+02\n",
      "finished adadelta optimization\n",
      "            22 iterations\n",
      "    3.3281e+02 final grad norm\n",
      "    3.8924e+02 final MA(2) grad norm\n",
      "    9.7431e+02 max MA(2) grad norm\n",
      "    norm used inf\n"
     ]
    },
    {
     "data": {
      "text/plain": [
       "(20.42438423691783, 4155.6073917252616)"
      ]
     },
     "execution_count": 3,
     "metadata": {},
     "output_type": "execute_result"
    }
   ],
   "source": [
    "lmc = LMC(xss, yss, kernels=ks, normalize=False)\n",
    "opt = AdaDelta(max_it=100, verbosity=10)\n",
    "with contexttimer.Timer() as t:\n",
    "    lmc.optimize(optimizer=opt)\n",
    "t.elapsed, lmc.log_likelihood()"
   ]
  },
  {
   "cell_type": "code",
   "execution_count": 4,
   "metadata": {
    "collapsed": false
   },
   "outputs": [
    {
     "data": {
      "text/plain": [
       "(24.23004325304646, 4150.727811393328)"
      ]
     },
     "execution_count": 4,
     "metadata": {},
     "output_type": "execute_result"
    }
   ],
   "source": [
    "dtcvar = GPyLMC(xss, yss, kernels=ks, ranks=[1], sparse=10)\n",
    "with contexttimer.Timer() as t:\n",
    "    dtcvar.optimize()\n",
    "t.elapsed, dtcvar.log_likelihood()"
   ]
  },
  {
   "cell_type": "code",
   "execution_count": 11,
   "metadata": {
    "collapsed": false
   },
   "outputs": [
    {
     "data": {
      "text/plain": [
       "(172.1126094950596, 4263.5540570123285)"
      ]
     },
     "execution_count": 11,
     "metadata": {},
     "output_type": "execute_result"
    }
   ],
   "source": [
    "# Cholesky\n",
    "chol = GPyLMC(xss, yss, kernels=ks, ranks=[1])\n",
    "with contexttimer.Timer() as t:\n",
    "    chol.optimize()\n",
    "t.elapsed, chol.log_likelihood()"
   ]
  },
  {
   "cell_type": "code",
   "execution_count": null,
   "metadata": {
    "collapsed": true
   },
   "outputs": [],
   "source": []
  }
 ],
 "metadata": {
  "kernelspec": {
   "display_name": "Python 3",
   "language": "python",
   "name": "python3"
  },
  "language_info": {
   "codemirror_mode": {
    "name": "ipython",
    "version": 3
   },
   "file_extension": ".py",
   "mimetype": "text/x-python",
   "name": "python",
   "nbconvert_exporter": "python",
   "pygments_lexer": "ipython3",
   "version": "3.5.2"
  }
 },
 "nbformat": 4,
 "nbformat_minor": 0
}
